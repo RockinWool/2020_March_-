{
 "cells": [
  {
   "cell_type": "code",
   "execution_count": null,
   "metadata": {},
   "outputs": [],
   "source": [
    "import SIR_model\n",
    "import numpy as np\n",
    "#----初期設定エリア---#\n",
    "S0=1000 #未感染者数\n",
    "I0=1    #感染者数\n",
    "R0=0    #治癒or死亡者数\n",
    "beta=0.2       #感染率\n",
    "gamma=0.1      #回復率・死亡率\n",
    "t0 = 0       #開始時間\n",
    "tmax = 200   #終了時間\n",
    "dt = 1      #時間刻み幅\n",
    "#---実行部分---#\n",
    "SIR_model.sim(S0,I0,R0,beta,gamma,t0,tmax,dt)"
   ]
  }
 ],
 "metadata": {
  "kernelspec": {
   "display_name": "Python 3",
   "language": "python",
   "name": "python3"
  },
  "language_info": {
   "codemirror_mode": {
    "name": "ipython",
    "version": 3
   },
   "file_extension": ".py",
   "mimetype": "text/x-python",
   "name": "python",
   "nbconvert_exporter": "python",
   "pygments_lexer": "ipython3",
   "version": "3.7.6"
  }
 },
 "nbformat": 4,
 "nbformat_minor": 4
}
